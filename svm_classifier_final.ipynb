{
 "cells": [
  {
   "cell_type": "code",
   "execution_count": 1,
   "metadata": {},
   "outputs": [],
   "source": [
    "import pandas as pd\n",
    "import numpy as np\n",
    "from sklearn.decomposition import PCA\n",
    "from sklearn import svm\n",
    "from sklearn.model_selection import GridSearchCV\n",
    "from sklearn.metrics import classification_report\n",
    "from sklearn.metrics import make_scorer\n",
    "from sklearn.metrics import balanced_accuracy_score\n",
    "import pickle\n",
    "\n",
    "from IPython.core.interactiveshell import InteractiveShell\n",
    "InteractiveShell.ast_node_interactivity = \"all\""
   ]
  },
  {
   "cell_type": "code",
   "execution_count": 2,
   "metadata": {},
   "outputs": [],
   "source": [
    "data = pd.read_pickle(\"4000_saved_master1.pkl\")"
   ]
  },
  {
   "cell_type": "code",
   "execution_count": 3,
   "metadata": {},
   "outputs": [
    {
     "data": {
      "text/html": [
       "<div>\n",
       "<style scoped>\n",
       "    .dataframe tbody tr th:only-of-type {\n",
       "        vertical-align: middle;\n",
       "    }\n",
       "\n",
       "    .dataframe tbody tr th {\n",
       "        vertical-align: top;\n",
       "    }\n",
       "\n",
       "    .dataframe thead th {\n",
       "        text-align: right;\n",
       "    }\n",
       "</style>\n",
       "<table border=\"1\" class=\"dataframe\">\n",
       "  <thead>\n",
       "    <tr style=\"text-align: right;\">\n",
       "      <th></th>\n",
       "      <th>ALA</th>\n",
       "      <th>ALA_0</th>\n",
       "      <th>ALA_1</th>\n",
       "      <th>ALA_2</th>\n",
       "      <th>ALA_3</th>\n",
       "      <th>ALA_4</th>\n",
       "      <th>ALA_5</th>\n",
       "      <th>ALA_6</th>\n",
       "      <th>ALA_7</th>\n",
       "      <th>ALA_8</th>\n",
       "      <th>...</th>\n",
       "      <th>sin_psi</th>\n",
       "      <th>sin_psi_0</th>\n",
       "      <th>sin_psi_1</th>\n",
       "      <th>sin_psi_2</th>\n",
       "      <th>sin_psi_3</th>\n",
       "      <th>sin_psi_4</th>\n",
       "      <th>sin_psi_5</th>\n",
       "      <th>sin_psi_6</th>\n",
       "      <th>sin_psi_7</th>\n",
       "      <th>sin_psi_8</th>\n",
       "    </tr>\n",
       "  </thead>\n",
       "  <tbody>\n",
       "    <tr>\n",
       "      <th>0</th>\n",
       "      <td>0</td>\n",
       "      <td>0</td>\n",
       "      <td>0</td>\n",
       "      <td>0</td>\n",
       "      <td>0</td>\n",
       "      <td>1</td>\n",
       "      <td>0</td>\n",
       "      <td>0</td>\n",
       "      <td>0</td>\n",
       "      <td>0</td>\n",
       "      <td>...</td>\n",
       "      <td>0.165775</td>\n",
       "      <td>0.235706</td>\n",
       "      <td>0.600179</td>\n",
       "      <td>-0.384713</td>\n",
       "      <td>-0.301993</td>\n",
       "      <td>0.581275</td>\n",
       "      <td>0.314405</td>\n",
       "      <td>0.64819</td>\n",
       "      <td>-0.564456</td>\n",
       "      <td>0.397495</td>\n",
       "    </tr>\n",
       "    <tr>\n",
       "      <th>1</th>\n",
       "      <td>0</td>\n",
       "      <td>0</td>\n",
       "      <td>0</td>\n",
       "      <td>0</td>\n",
       "      <td>1</td>\n",
       "      <td>0</td>\n",
       "      <td>0</td>\n",
       "      <td>0</td>\n",
       "      <td>0</td>\n",
       "      <td>0</td>\n",
       "      <td>...</td>\n",
       "      <td>0.235706</td>\n",
       "      <td>0.600179</td>\n",
       "      <td>-0.384713</td>\n",
       "      <td>-0.301993</td>\n",
       "      <td>0.581275</td>\n",
       "      <td>0.314405</td>\n",
       "      <td>0.64819</td>\n",
       "      <td>-0.564456</td>\n",
       "      <td>0.397495</td>\n",
       "      <td>0.876304</td>\n",
       "    </tr>\n",
       "    <tr>\n",
       "      <th>2</th>\n",
       "      <td>0</td>\n",
       "      <td>0</td>\n",
       "      <td>0</td>\n",
       "      <td>1</td>\n",
       "      <td>0</td>\n",
       "      <td>0</td>\n",
       "      <td>0</td>\n",
       "      <td>0</td>\n",
       "      <td>0</td>\n",
       "      <td>0</td>\n",
       "      <td>...</td>\n",
       "      <td>0.600179</td>\n",
       "      <td>-0.384713</td>\n",
       "      <td>-0.301993</td>\n",
       "      <td>0.581275</td>\n",
       "      <td>0.314405</td>\n",
       "      <td>0.64819</td>\n",
       "      <td>-0.564456</td>\n",
       "      <td>0.397495</td>\n",
       "      <td>0.876304</td>\n",
       "      <td>0.775095</td>\n",
       "    </tr>\n",
       "    <tr>\n",
       "      <th>3</th>\n",
       "      <td>0</td>\n",
       "      <td>0</td>\n",
       "      <td>1</td>\n",
       "      <td>0</td>\n",
       "      <td>0</td>\n",
       "      <td>0</td>\n",
       "      <td>0</td>\n",
       "      <td>0</td>\n",
       "      <td>0</td>\n",
       "      <td>0</td>\n",
       "      <td>...</td>\n",
       "      <td>-0.384713</td>\n",
       "      <td>-0.301993</td>\n",
       "      <td>0.581275</td>\n",
       "      <td>0.314405</td>\n",
       "      <td>0.64819</td>\n",
       "      <td>-0.564456</td>\n",
       "      <td>0.397495</td>\n",
       "      <td>0.876304</td>\n",
       "      <td>0.775095</td>\n",
       "      <td>0.564654</td>\n",
       "    </tr>\n",
       "    <tr>\n",
       "      <th>4</th>\n",
       "      <td>0</td>\n",
       "      <td>1</td>\n",
       "      <td>0</td>\n",
       "      <td>0</td>\n",
       "      <td>0</td>\n",
       "      <td>0</td>\n",
       "      <td>0</td>\n",
       "      <td>0</td>\n",
       "      <td>0</td>\n",
       "      <td>0</td>\n",
       "      <td>...</td>\n",
       "      <td>-0.301993</td>\n",
       "      <td>0.581275</td>\n",
       "      <td>0.314405</td>\n",
       "      <td>0.64819</td>\n",
       "      <td>-0.564456</td>\n",
       "      <td>0.397495</td>\n",
       "      <td>0.876304</td>\n",
       "      <td>0.775095</td>\n",
       "      <td>0.564654</td>\n",
       "      <td>-0.805682</td>\n",
       "    </tr>\n",
       "  </tbody>\n",
       "</table>\n",
       "<p>5 rows × 810 columns</p>\n",
       "</div>"
      ],
      "text/plain": [
       "  ALA ALA_0 ALA_1 ALA_2 ALA_3 ALA_4 ALA_5 ALA_6 ALA_7 ALA_8  ...   sin_psi  \\\n",
       "0   0     0     0     0     0     1     0     0     0     0  ...  0.165775   \n",
       "1   0     0     0     0     1     0     0     0     0     0  ...  0.235706   \n",
       "2   0     0     0     1     0     0     0     0     0     0  ...  0.600179   \n",
       "3   0     0     1     0     0     0     0     0     0     0  ... -0.384713   \n",
       "4   0     1     0     0     0     0     0     0     0     0  ... -0.301993   \n",
       "\n",
       "  sin_psi_0 sin_psi_1 sin_psi_2 sin_psi_3 sin_psi_4 sin_psi_5 sin_psi_6  \\\n",
       "0  0.235706  0.600179 -0.384713 -0.301993  0.581275  0.314405   0.64819   \n",
       "1  0.600179 -0.384713 -0.301993  0.581275  0.314405   0.64819 -0.564456   \n",
       "2 -0.384713 -0.301993  0.581275  0.314405   0.64819 -0.564456  0.397495   \n",
       "3 -0.301993  0.581275  0.314405   0.64819 -0.564456  0.397495  0.876304   \n",
       "4  0.581275  0.314405   0.64819 -0.564456  0.397495  0.876304  0.775095   \n",
       "\n",
       "  sin_psi_7 sin_psi_8  \n",
       "0 -0.564456  0.397495  \n",
       "1  0.397495  0.876304  \n",
       "2  0.876304  0.775095  \n",
       "3  0.775095  0.564654  \n",
       "4  0.564654 -0.805682  \n",
       "\n",
       "[5 rows x 810 columns]"
      ]
     },
     "execution_count": 3,
     "metadata": {},
     "output_type": "execute_result"
    },
    {
     "data": {
      "text/plain": [
       "(980782, 810)"
      ]
     },
     "execution_count": 3,
     "metadata": {},
     "output_type": "execute_result"
    }
   ],
   "source": [
    "data.head()\n",
    "data.shape"
   ]
  },
  {
   "cell_type": "code",
   "execution_count": 20,
   "metadata": {},
   "outputs": [],
   "source": [
    "# take only 10% of the data\n",
    "df_10_percent = data.sample(frac=0.1)"
   ]
  },
  {
   "cell_type": "code",
   "execution_count": 21,
   "metadata": {},
   "outputs": [
    {
     "data": {
      "text/plain": [
       "(98078, 810)"
      ]
     },
     "execution_count": 21,
     "metadata": {},
     "output_type": "execute_result"
    },
    {
     "data": {
      "text/html": [
       "<div>\n",
       "<style scoped>\n",
       "    .dataframe tbody tr th:only-of-type {\n",
       "        vertical-align: middle;\n",
       "    }\n",
       "\n",
       "    .dataframe tbody tr th {\n",
       "        vertical-align: top;\n",
       "    }\n",
       "\n",
       "    .dataframe thead th {\n",
       "        text-align: right;\n",
       "    }\n",
       "</style>\n",
       "<table border=\"1\" class=\"dataframe\">\n",
       "  <thead>\n",
       "    <tr style=\"text-align: right;\">\n",
       "      <th></th>\n",
       "      <th>ALA</th>\n",
       "      <th>ALA_0</th>\n",
       "      <th>ALA_1</th>\n",
       "      <th>ALA_2</th>\n",
       "      <th>ALA_3</th>\n",
       "      <th>ALA_4</th>\n",
       "      <th>ALA_5</th>\n",
       "      <th>ALA_6</th>\n",
       "      <th>ALA_7</th>\n",
       "      <th>ALA_8</th>\n",
       "      <th>...</th>\n",
       "      <th>sin_psi</th>\n",
       "      <th>sin_psi_0</th>\n",
       "      <th>sin_psi_1</th>\n",
       "      <th>sin_psi_2</th>\n",
       "      <th>sin_psi_3</th>\n",
       "      <th>sin_psi_4</th>\n",
       "      <th>sin_psi_5</th>\n",
       "      <th>sin_psi_6</th>\n",
       "      <th>sin_psi_7</th>\n",
       "      <th>sin_psi_8</th>\n",
       "    </tr>\n",
       "  </thead>\n",
       "  <tbody>\n",
       "    <tr>\n",
       "      <th>544774</th>\n",
       "      <td>0</td>\n",
       "      <td>0</td>\n",
       "      <td>0</td>\n",
       "      <td>0</td>\n",
       "      <td>1</td>\n",
       "      <td>1</td>\n",
       "      <td>0</td>\n",
       "      <td>0</td>\n",
       "      <td>0</td>\n",
       "      <td>0</td>\n",
       "      <td>...</td>\n",
       "      <td>-0.274387</td>\n",
       "      <td>0.410341</td>\n",
       "      <td>0.905624</td>\n",
       "      <td>-0.197778</td>\n",
       "      <td>0.455244</td>\n",
       "      <td>0.999724</td>\n",
       "      <td>0.955991</td>\n",
       "      <td>-0.0575084</td>\n",
       "      <td>0.841325</td>\n",
       "      <td>0.857653</td>\n",
       "    </tr>\n",
       "    <tr>\n",
       "      <th>323683</th>\n",
       "      <td>0</td>\n",
       "      <td>0</td>\n",
       "      <td>0</td>\n",
       "      <td>0</td>\n",
       "      <td>0</td>\n",
       "      <td>0</td>\n",
       "      <td>0</td>\n",
       "      <td>0</td>\n",
       "      <td>0</td>\n",
       "      <td>0</td>\n",
       "      <td>...</td>\n",
       "      <td>0.264434</td>\n",
       "      <td>0.41343</td>\n",
       "      <td>0.597907</td>\n",
       "      <td>0.708736</td>\n",
       "      <td>-0.309067</td>\n",
       "      <td>-0.607254</td>\n",
       "      <td>0.0371558</td>\n",
       "      <td>-0.61793</td>\n",
       "      <td>-0.0666131</td>\n",
       "      <td>-0.18682</td>\n",
       "    </tr>\n",
       "    <tr>\n",
       "      <th>905559</th>\n",
       "      <td>0</td>\n",
       "      <td>0</td>\n",
       "      <td>0</td>\n",
       "      <td>1</td>\n",
       "      <td>0</td>\n",
       "      <td>0</td>\n",
       "      <td>0</td>\n",
       "      <td>1</td>\n",
       "      <td>1</td>\n",
       "      <td>0</td>\n",
       "      <td>...</td>\n",
       "      <td>0.67678</td>\n",
       "      <td>0.402035</td>\n",
       "      <td>-0.286934</td>\n",
       "      <td>0.628367</td>\n",
       "      <td>0.235793</td>\n",
       "      <td>0.205248</td>\n",
       "      <td>-0.716128</td>\n",
       "      <td>-0.567317</td>\n",
       "      <td>-0.690508</td>\n",
       "      <td>-0.754169</td>\n",
       "    </tr>\n",
       "    <tr>\n",
       "      <th>584035</th>\n",
       "      <td>0</td>\n",
       "      <td>0</td>\n",
       "      <td>0</td>\n",
       "      <td>0</td>\n",
       "      <td>0</td>\n",
       "      <td>0</td>\n",
       "      <td>1</td>\n",
       "      <td>0</td>\n",
       "      <td>0</td>\n",
       "      <td>0</td>\n",
       "      <td>...</td>\n",
       "      <td>-0.79434</td>\n",
       "      <td>-0.675151</td>\n",
       "      <td>-0.541691</td>\n",
       "      <td>0.326468</td>\n",
       "      <td>0.958126</td>\n",
       "      <td>-0.454601</td>\n",
       "      <td>-0.505097</td>\n",
       "      <td>0.00225212</td>\n",
       "      <td>-0.519678</td>\n",
       "      <td>-0.766986</td>\n",
       "    </tr>\n",
       "    <tr>\n",
       "      <th>403049</th>\n",
       "      <td>0</td>\n",
       "      <td>0</td>\n",
       "      <td>0</td>\n",
       "      <td>0</td>\n",
       "      <td>0</td>\n",
       "      <td>0</td>\n",
       "      <td>0</td>\n",
       "      <td>0</td>\n",
       "      <td>0</td>\n",
       "      <td>0</td>\n",
       "      <td>...</td>\n",
       "      <td>0.654244</td>\n",
       "      <td>0.390082</td>\n",
       "      <td>0.691314</td>\n",
       "      <td>-0.252249</td>\n",
       "      <td>0.43303</td>\n",
       "      <td>0.131821</td>\n",
       "      <td>-0.561668</td>\n",
       "      <td>-0.371581</td>\n",
       "      <td>-0.726418</td>\n",
       "      <td>-0.235419</td>\n",
       "    </tr>\n",
       "  </tbody>\n",
       "</table>\n",
       "<p>5 rows × 810 columns</p>\n",
       "</div>"
      ],
      "text/plain": [
       "       ALA ALA_0 ALA_1 ALA_2 ALA_3 ALA_4 ALA_5 ALA_6 ALA_7 ALA_8  ...  \\\n",
       "544774   0     0     0     0     1     1     0     0     0     0  ...   \n",
       "323683   0     0     0     0     0     0     0     0     0     0  ...   \n",
       "905559   0     0     0     1     0     0     0     1     1     0  ...   \n",
       "584035   0     0     0     0     0     0     1     0     0     0  ...   \n",
       "403049   0     0     0     0     0     0     0     0     0     0  ...   \n",
       "\n",
       "         sin_psi sin_psi_0 sin_psi_1 sin_psi_2 sin_psi_3 sin_psi_4  sin_psi_5  \\\n",
       "544774 -0.274387  0.410341  0.905624 -0.197778  0.455244  0.999724   0.955991   \n",
       "323683  0.264434   0.41343  0.597907  0.708736 -0.309067 -0.607254  0.0371558   \n",
       "905559   0.67678  0.402035 -0.286934  0.628367  0.235793  0.205248  -0.716128   \n",
       "584035  -0.79434 -0.675151 -0.541691  0.326468  0.958126 -0.454601  -0.505097   \n",
       "403049  0.654244  0.390082  0.691314 -0.252249   0.43303  0.131821  -0.561668   \n",
       "\n",
       "         sin_psi_6  sin_psi_7 sin_psi_8  \n",
       "544774  -0.0575084   0.841325  0.857653  \n",
       "323683    -0.61793 -0.0666131  -0.18682  \n",
       "905559   -0.567317  -0.690508 -0.754169  \n",
       "584035  0.00225212  -0.519678 -0.766986  \n",
       "403049   -0.371581  -0.726418 -0.235419  \n",
       "\n",
       "[5 rows x 810 columns]"
      ]
     },
     "execution_count": 21,
     "metadata": {},
     "output_type": "execute_result"
    }
   ],
   "source": [
    "df_10_percent.shape\n",
    "df_10_percent.head()"
   ]
  },
  {
   "cell_type": "code",
   "execution_count": 22,
   "metadata": {},
   "outputs": [
    {
     "data": {
      "text/plain": [
       "3968"
      ]
     },
     "execution_count": 22,
     "metadata": {},
     "output_type": "execute_result"
    }
   ],
   "source": [
    "# get list of unique pdbs in this sample\n",
    "list_pdbs = list(df_10_percent.pdbId.unique())\n",
    "len(list_pdbs)"
   ]
  },
  {
   "cell_type": "code",
   "execution_count": 23,
   "metadata": {},
   "outputs": [],
   "source": [
    "# spilt into train and test sets (keeping pdbid separate)\n",
    "def split(list_of_ids, frac=0.70, seed=1):\n",
    "    n_train = np.floor(len(list_of_ids)*frac)\n",
    "    shuffled = np.random.shuffle(list_of_ids)\n",
    "    train_IDs = list_of_ids[0:int(n_train)]\n",
    "    test_IDs = list_of_ids[int(n_train):]\n",
    "\n",
    "    return train_IDs, test_IDs"
   ]
  },
  {
   "cell_type": "code",
   "execution_count": 24,
   "metadata": {},
   "outputs": [
    {
     "data": {
      "text/plain": [
       "(68770, 810)"
      ]
     },
     "execution_count": 24,
     "metadata": {},
     "output_type": "execute_result"
    },
    {
     "data": {
      "text/plain": [
       "(29308, 810)"
      ]
     },
     "execution_count": 24,
     "metadata": {},
     "output_type": "execute_result"
    }
   ],
   "source": [
    "# get training and validation data\n",
    "split = split(list_pdbs)\n",
    "\n",
    "train_data = df_10_percent[df_10_percent.pdbId.isin(split[0])]\n",
    "test_data = df_10_percent[df_10_percent.pdbId.isin(split[1])]\n",
    "train_data.shape\n",
    "test_data.shape"
   ]
  },
  {
   "cell_type": "code",
   "execution_count": 25,
   "metadata": {},
   "outputs": [],
   "source": [
    "# remove columns from data that are not important\n",
    "train_data = train_data.drop(train_data.columns[train_data.columns.str.startswith('pdbId')], axis=1)\n",
    "train_data = train_data.drop(train_data.columns[train_data.columns.str.startswith('chain')], axis=1)\n",
    "test_data = test_data.drop(test_data.columns[test_data.columns.str.startswith('pdbId')], axis=1)\n",
    "test_data = test_data.drop(test_data.columns[test_data.columns.str.startswith('chain')], axis=1)"
   ]
  },
  {
   "cell_type": "code",
   "execution_count": 26,
   "metadata": {},
   "outputs": [],
   "source": [
    "# get training and validation data without labels\n",
    "train_data_nolabel = train_data.drop(['is_cap'], axis=1)\n",
    "test_data_nolabel = test_data.drop(['is_cap'], axis=1)"
   ]
  },
  {
   "cell_type": "code",
   "execution_count": 27,
   "metadata": {},
   "outputs": [
    {
     "data": {
      "text/plain": [
       "(68770, 790)"
      ]
     },
     "execution_count": 27,
     "metadata": {},
     "output_type": "execute_result"
    },
    {
     "data": {
      "text/plain": [
       "(68770, 789)"
      ]
     },
     "execution_count": 27,
     "metadata": {},
     "output_type": "execute_result"
    },
    {
     "data": {
      "text/plain": [
       "(29308, 790)"
      ]
     },
     "execution_count": 27,
     "metadata": {},
     "output_type": "execute_result"
    },
    {
     "data": {
      "text/plain": [
       "(29308, 789)"
      ]
     },
     "execution_count": 27,
     "metadata": {},
     "output_type": "execute_result"
    }
   ],
   "source": [
    "train_data.shape\n",
    "train_data_nolabel.shape\n",
    "test_data.shape\n",
    "test_data_nolabel.shape"
   ]
  },
  {
   "cell_type": "code",
   "execution_count": 28,
   "metadata": {},
   "outputs": [
    {
     "data": {
      "text/plain": [
       "dtype('int64')"
      ]
     },
     "execution_count": 28,
     "metadata": {},
     "output_type": "execute_result"
    },
    {
     "data": {
      "text/plain": [
       "dtype('int64')"
      ]
     },
     "execution_count": 28,
     "metadata": {},
     "output_type": "execute_result"
    }
   ],
   "source": [
    "# convert to int type for correct input format to svm\n",
    "train_data['is_cap'] = train_data['is_cap'].astype('int')\n",
    "train_data.is_cap.dtype\n",
    "test_data['is_cap'] = test_data['is_cap'].astype('int')\n",
    "test_data.is_cap.dtype"
   ]
  },
  {
   "cell_type": "code",
   "execution_count": null,
   "metadata": {},
   "outputs": [
    {
     "data": {
      "text/plain": [
       "PCA(copy=True, iterated_power='auto', n_components=40, random_state=None,\n",
       "  svd_solver='auto', tol=0.0, whiten=False)"
      ]
     },
     "execution_count": 29,
     "metadata": {},
     "output_type": "execute_result"
    },
    {
     "name": "stderr",
     "output_type": "stream",
     "text": [
      "/home/ec2-user/anaconda3/envs/python3/lib/python3.6/site-packages/sklearn/svm/base.py:196: FutureWarning: The default value of gamma will change from 'auto' to 'scale' in version 0.22 to account better for unscaled features. Set gamma explicitly to 'auto' or 'scale' to avoid this warning.\n",
      "  \"avoid this warning.\", FutureWarning)\n"
     ]
    }
   ],
   "source": [
    "# use pca to reduce dimensionality and then fit svm classifier\n",
    "%timeit\n",
    "pca = PCA(n_components=40)\n",
    "pca.fit(train_data_nolabel)\n",
    "\n",
    "reduced_train = pca.transform(train_data_nolabel)\n",
    "reduced_test = pca.transform(test_data_nolabel)\n",
    "\n",
    "# tuned_parameters = [{'kernel': ['rbf'], 'gamma': [0.1], 'C': [1]},\n",
    "#                     {'kernel': ['linear'], 'C': [1, 10]}]\n",
    "\n",
    "# classifier = GridSearchCV(svm.SVC(), tuned_parameters, cv=10, scoring = make_scorer(balanced_accuracy_score))\n",
    "# classifier.fit(reduced_train, train_data['is_cap'])\n",
    "\n",
    "# print('Best params')\n",
    "# print(classifier.best_params_)\n",
    "\n",
    "classifier = svm.SVC()\n",
    "classifier.fit(reduced_train, train_data['is_cap'])\n",
    "\n",
    "# predict on test data\n",
    "predicted_pca = classifier.predict(reduced_test)\n",
    "                                \n",
    "# calculate class balanced accuracy\n",
    "balanced_accuracy_score(test_data['is_cap'], predicted_pca)\n",
    "\n",
    "print(classification_report(test_data['is_cap'], predicted_pca))"
   ]
  },
  {
   "cell_type": "code",
   "execution_count": 32,
   "metadata": {},
   "outputs": [
    {
     "name": "stdout",
     "output_type": "stream",
     "text": [
      "hello\n"
     ]
    }
   ],
   "source": [
    "print('hello')"
   ]
  },
  {
   "cell_type": "code",
   "execution_count": 33,
   "metadata": {},
   "outputs": [
    {
     "data": {
      "text/plain": [
       "0.502563735054111"
      ]
     },
     "execution_count": 33,
     "metadata": {},
     "output_type": "execute_result"
    },
    {
     "name": "stdout",
     "output_type": "stream",
     "text": [
      "              precision    recall  f1-score   support\n",
      "\n",
      "           0       0.87      1.00      0.93     25449\n",
      "           1       0.72      0.01      0.01      3859\n",
      "\n",
      "   micro avg       0.87      0.87      0.87     29308\n",
      "   macro avg       0.80      0.50      0.47     29308\n",
      "weighted avg       0.85      0.87      0.81     29308\n",
      "\n"
     ]
    }
   ],
   "source": [
    "# predict on test data\n",
    "predicted_pca = classifier.predict(reduced_test)\n",
    "                                \n",
    "# calculate class balanced accuracy\n",
    "balanced_accuracy_score(test_data['is_cap'], predicted_pca)\n",
    "\n",
    "print(classification_report(test_data['is_cap'], predicted_pca))"
   ]
  },
  {
   "cell_type": "code",
   "execution_count": 19,
   "metadata": {},
   "outputs": [
    {
     "data": {
      "text/plain": [
       "SVC(C=1.0, cache_size=200, class_weight=None, coef0=0.0,\n",
       "  decision_function_shape='ovr', degree=3, gamma=100, kernel='rbf',\n",
       "  max_iter=-1, probability=False, random_state=None, shrinking=True,\n",
       "  tol=0.001, verbose=False)"
      ]
     },
     "execution_count": 19,
     "metadata": {},
     "output_type": "execute_result"
    },
    {
     "data": {
      "text/plain": [
       "0.5"
      ]
     },
     "execution_count": 19,
     "metadata": {},
     "output_type": "execute_result"
    },
    {
     "name": "stdout",
     "output_type": "stream",
     "text": [
      "              precision    recall  f1-score   support\n",
      "\n",
      "           0       0.85      1.00      0.92      2494\n",
      "           1       0.00      0.00      0.00       431\n",
      "\n",
      "   micro avg       0.85      0.85      0.85      2925\n",
      "   macro avg       0.43      0.50      0.46      2925\n",
      "weighted avg       0.73      0.85      0.78      2925\n",
      "\n"
     ]
    },
    {
     "name": "stderr",
     "output_type": "stream",
     "text": [
      "/home/ec2-user/anaconda3/envs/python3/lib/python3.6/site-packages/sklearn/metrics/classification.py:1143: UndefinedMetricWarning: Precision and F-score are ill-defined and being set to 0.0 in labels with no predicted samples.\n",
      "  'precision', 'predicted', average, warn_for)\n"
     ]
    }
   ],
   "source": [
    "# fit the classifier on train data\n",
    "%timeit\n",
    "\n",
    "tuned_parameters = [{'kernel': ['rbf'], 'gamma': [0.1, 1, 10, 100], 'C': [1, 10, 100, 1000]},\n",
    "                    {'kernel': ['linear'], 'C': [1, 10, 100, 1000]}]\n",
    "\n",
    "# classifier = GridSearchCV(svm.SVC(), tuned_parameters, cv=10, scoring = make_scorer(balanced_accuracy_score))\n",
    "# classifier.fit(train_data_nolabel, train_data['is_cap'])\n",
    "\n",
    "# print('Best params')\n",
    "# print(classifier.best_params_)\n",
    "\n",
    "classifier = svm.SVC(gamma=100)\n",
    "classifier.fit(train_data_nolabel, train_data['is_cap'])\n",
    "\n",
    "# predict on test data\n",
    "predicted = classifier.predict(test_data_nolabel)\n",
    "                                \n",
    "# calculate class balanced accuracy\n",
    "balanced_accuracy_score(test_data['is_cap'], predicted)\n",
    "\n",
    "print(classification_report(test_data['is_cap'], predicted))"
   ]
  },
  {
   "cell_type": "code",
   "execution_count": null,
   "metadata": {},
   "outputs": [],
   "source": []
  }
 ],
 "metadata": {
  "kernelspec": {
   "display_name": "conda_python3",
   "language": "python",
   "name": "conda_python3"
  },
  "language_info": {
   "codemirror_mode": {
    "name": "ipython",
    "version": 3
   },
   "file_extension": ".py",
   "mimetype": "text/x-python",
   "name": "python",
   "nbconvert_exporter": "python",
   "pygments_lexer": "ipython3",
   "version": "3.6.5"
  }
 },
 "nbformat": 4,
 "nbformat_minor": 2
}
