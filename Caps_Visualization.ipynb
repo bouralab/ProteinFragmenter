{
 "cells": [
  {
   "cell_type": "code",
   "execution_count": null,
   "metadata": {},
   "outputs": [],
   "source": [
    "import pandas as pd\n",
    "import py3Dmol"
   ]
  },
  {
   "cell_type": "code",
   "execution_count": null,
   "metadata": {},
   "outputs": [],
   "source": [
    "def view_caps(pdb_ids, chain_ids, helix_ids, cap_before, cap_after):\n",
    "    \n",
    "    def view3d(i=0):\n",
    "        \n",
    "        viewer = py3Dmol.view(query=pdb_ids[i])\n",
    "        viewer.setStyle({'cartoon': {'color': 'grey'}})\n",
    "        \n",
    "        helix_view = {'resi': helix_ids[i], 'chain': chain_ids[i], 'byres': 'true'}\n",
    "        viewer.setStyle(helix_view, {'cartoon': {'colorscheme': 'blueCarbon'}})\n",
    "        \n",
    "        caps_view = {'resi': cap_before[i], 'chain': chain_ids[i], 'byres': 'true'}\n",
    "        viewer.setStyle(caps_view, {'cartoon': {'colorscheme': 'greenCarbon'}})\n",
    "\n",
    "        return viewer.show()\n",
    "\n",
    "    s_widget = IntSlider(min=0, max=len(pdb_ids)-1, description='Structure', continuous_update=False)\n",
    "    return interact(view3d, i=s_widget)"
   ]
  },
  {
   "cell_type": "code",
   "execution_count": null,
   "metadata": {},
   "outputs": [],
   "source": [
    "# This allows you to visualize a protein chain, and highlight different residues.\n",
    "\n",
    "test_query = 'pdb:1KZ1'\n",
    "viewer = py3Dmol.view(query=test_query)\n",
    "viewer.setStyle({'cartoon': {'color': 'grey'}})\n",
    "viewer.setStyle({'resi': 28},{'cartoon': {'color': 'red'}})\n",
    "viewer.show()"
   ]
  }
 ],
 "metadata": {
  "kernelspec": {
   "display_name": "conda_python3",
   "language": "python",
   "name": "conda_python3"
  },
  "language_info": {
   "codemirror_mode": {
    "name": "ipython",
    "version": 3
   },
   "file_extension": ".py",
   "mimetype": "text/x-python",
   "name": "python",
   "nbconvert_exporter": "python",
   "pygments_lexer": "ipython3",
   "version": "3.6.5"
  }
 },
 "nbformat": 4,
 "nbformat_minor": 2
}
